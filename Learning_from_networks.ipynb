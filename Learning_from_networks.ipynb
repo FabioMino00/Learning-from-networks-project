{
 "cells": [
  {
   "cell_type": "code",
   "execution_count": 12,
   "metadata": {
    "colab": {
     "base_uri": "https://localhost:8080/"
    },
    "id": "0aMxaTfAvm38",
    "outputId": "e28b56c5-3ffa-47d6-dcb7-765a7801719f"
   },
   "outputs": [],
   "source": [
    "import igraph\n",
    "import networkx as nx\n",
    "from statistics import mean, median, stdev\n",
    "import matplotlib.pyplot as plt\n",
    "import random\n",
    "import statsmodels.stats.api as sms\n",
    "import numpy as np\n",
    "import scipy\n",
    "from weighted_multifractal_graph import generate_adj # file .py available in the repository"
   ]
  },
  {
   "cell_type": "markdown",
   "metadata": {
    "id": "Oaia7-rKC1hS"
   },
   "source": [
    "# Utility functions"
   ]
  },
  {
   "cell_type": "code",
   "execution_count": 3,
   "metadata": {
    "id": "Nq1AeClfC4Rr"
   },
   "outputs": [],
   "source": [
    "# Convert a NetworkX graph to an igraph graph, handling isolated nodes.\n",
    "# - graph: NetworkX graph to be converted.\n",
    "# Returns an igraph graph with simplified edges (no duplicates or self-loops).\n",
    "def convert_to_igraph(graph):\n",
    "    edge_list = graph.edges(data='weight', default=1.0)\n",
    "\n",
    "    # Create igraph graph with weights\n",
    "    G_igraph = igraph.Graph.TupleList(edge_list, weights=weights, directed=False)\n",
    "\n",
    "    # Add isolated nodes to the igraph graph\n",
    "    isolated_nodes = set(graph.nodes()) - set(G_igraph.vs[\"name\"])\n",
    "    G_igraph.add_vertices(list(isolated_nodes))\n",
    "    return G_igraph # G_igraph.simplify() to make it unweighted\n",
    "\n",
    "# Check various features of an igraph graph and return the results.\n",
    "# - graph: igraph graph object to be examined.\n",
    "# Returns a tuple containing:\n",
    "# - is_directed: True if the graph is directed, False otherwise.\n",
    "# - is_connected: True if the graph is connected, False otherwise.\n",
    "# - is_weighted: True if the graph is weighted, False otherwise.\n",
    "# - num_nodes: Number of nodes in the graph.\n",
    "# - num_edges: Number of edges in the graph.\n",
    "def check_graph_features(graph):\n",
    "    is_directed = graph.is_directed()\n",
    "    is_connected = graph.is_connected()\n",
    "    is_weighted = graph.is_weighted()\n",
    "    num_nodes = graph.vcount()\n",
    "    num_edges = graph.ecount()\n",
    "    return is_directed, is_connected, is_weighted, num_nodes, num_edges\n",
    "\n",
    "# Function to get NetworkX graph features\n",
    "def get_networkx_graph_features(graph):\n",
    "    is_directed = nx.is_directed(graph)\n",
    "    is_connected = nx.is_weakly_connected(graph) if is_directed else nx.is_connected(graph)\n",
    "    is_weighted = any(\"weight\" in graph[u][v] for u, v in graph.edges())\n",
    "    num_nodes = len(graph.nodes())\n",
    "    num_edges = len(graph.edges())\n",
    "    return is_directed, is_connected, is_weighted, num_nodes, num_edges"
   ]
  },
  {
   "cell_type": "markdown",
   "metadata": {
    "id": "_gN07BQ7dHhr"
   },
   "source": [
    "# Load dataset"
   ]
  },
  {
   "cell_type": "code",
   "execution_count": 4,
   "metadata": {
    "colab": {
     "base_uri": "https://localhost:8080/"
    },
    "id": "e1o6yvn1bEB8",
    "outputId": "b8e58d55-21d1-457e-91fc-f366a49f0a58"
   },
   "outputs": [
    {
     "name": "stdout",
     "output_type": "stream",
     "text": [
      "Graph total number of nodes:  503\n",
      "Graph total number of edges:  24656\n"
     ]
    }
   ],
   "source": [
    "brain_path = 'rattus.norvegicus_brain_2.graphml'\n",
    "\n",
    "# Load the GraphML file\n",
    "G = nx.read_graphml(brain_path).to_undirected()\n",
    "\n",
    "print(\"Graph total number of nodes: \", G.number_of_nodes())\n",
    "print(\"Graph total number of edges: \", G.number_of_edges())\n",
    "\n",
    "degrees = dict(G.degree())\n",
    "mean_degree = mean(degrees.values())"
   ]
  },
  {
   "cell_type": "markdown",
   "metadata": {
    "id": "bl-7u7iV6kE3"
   },
   "source": [
    "# General node statistics"
   ]
  },
  {
   "cell_type": "code",
   "execution_count": 5,
   "metadata": {
    "colab": {
     "base_uri": "https://localhost:8080/"
    },
    "id": "DTkMbPZX6r23",
    "outputId": "ce52c923-6865-4c5a-ed56-62ae9f3b51c2"
   },
   "outputs": [
    {
     "name": "stdout",
     "output_type": "stream",
     "text": [
      "Node with highest degree n281 has degree 499\n",
      "Node with lowest degree n209 has degree 0\n",
      "Mean degree: 98.03578528827038\n"
     ]
    }
   ],
   "source": [
    "node_with_highest_degree = max(degrees, key=degrees.get)\n",
    "print(f\"Node with highest degree {node_with_highest_degree} has degree {degrees[node_with_highest_degree]}\")\n",
    "node_with_lowest_degree = min(degrees, key=degrees.get)\n",
    "print(f\"Node with lowest degree {node_with_lowest_degree} has degree {degrees[node_with_lowest_degree]}\")\n",
    "mean_degree = mean(degrees.values())\n",
    "print(f\"Mean degree: {mean_degree}\")"
   ]
  },
  {
   "cell_type": "code",
   "execution_count": 6,
   "metadata": {
    "colab": {
     "base_uri": "https://localhost:8080/",
     "height": 472
    },
    "id": "Esv-ezWzTHxK",
    "outputId": "6293baf5-f368-4119-ab2f-1da8b72f7fae"
   },
   "outputs": [
    {
     "data": {
      "image/png": "[encoded data removed]",
      "text/plain": [
       "<Figure size 640x480 with 1 Axes>"
      ]
     },
     "metadata": {},
     "output_type": "display_data"
    }
   ],
   "source": [
    "frequency = {}\n",
    "for number in degrees.values():\n",
    "    if number in frequency:\n",
    "        frequency[number] += 1\n",
    "    else:\n",
    "        frequency[number] = 1\n",
    "\n",
    "plt.hist(degrees.values(), bins=60, edgecolor='black')\n",
    "plt.xlabel('degree')\n",
    "plt.ylabel('# nodes')\n",
    "plt.title('Degree distribution')\n",
    "plt.show()"
   ]
  },
  {
   "cell_type": "markdown",
   "metadata": {
    "id": "1lmwP8vzcuRb"
   },
   "source": [
    "# Edge weights analysis"
   ]
  },
  {
   "cell_type": "code",
   "execution_count": 7,
   "metadata": {
    "colab": {
     "base_uri": "https://localhost:8080/",
     "height": 524
    },
    "id": "EA5M0sbEcsb7",
    "outputId": "61fa7575-e1e2-4667-d706-b678211001d6"
   },
   "outputs": [
    {
     "name": "stdout",
     "output_type": "stream",
     "text": [
      "Highest weight 9.0\n",
      "Highest weight 1.0\n",
      "Mean weight: 1.6629218040233615\n"
     ]
    },
    {
     "data": {
      "image/png": "[encoded data removed]",
      "text/plain": [
       "<Figure size 640x480 with 1 Axes>"
      ]
     },
     "metadata": {},
     "output_type": "display_data"
    }
   ],
   "source": [
    "edges = dict(G.edges())\n",
    "\n",
    "weights = []\n",
    "for key, value in edges.items():\n",
    "  weights.append(value['weight'])\n",
    "\n",
    "highest_weight = max(weights)\n",
    "print(f\"Highest weight {highest_weight}\")\n",
    "lowest_weight = min(weights)\n",
    "print(f\"Highest weight {lowest_weight}\")\n",
    "mean_weight = mean(weights)\n",
    "print(f\"Mean weight: {mean_weight}\")\n",
    "\n",
    "plt.hist(weights, bins=8, edgecolor='black')\n",
    "plt.xlabel('Weight')\n",
    "plt.ylabel('# edges')\n",
    "plt.title('Weight distribution')\n",
    "plt.show()"
   ]
  },
  {
   "cell_type": "markdown",
   "metadata": {
    "id": "emZr27u9hSJe"
   },
   "source": [
    "# Metrics of the imported connectome"
   ]
  },
  {
   "cell_type": "code",
   "execution_count": 8,
   "metadata": {
    "colab": {
     "base_uri": "https://localhost:8080/"
    },
    "id": "hVxa8qcyZWT_",
    "outputId": "f5157f04-6e1d-4828-e9f5-bcb30a674ff7"
   },
   "outputs": [
    {
     "name": "stdout",
     "output_type": "stream",
     "text": [
      "Graph level features\n",
      "Global clustering coefficient: 0.32200264950245183\n",
      "Node level features\n",
      "Mean local clustering coefficient: 0.8889921151802328\n",
      "Mean squared local clustering coefficient: 0.8466267771917872\n",
      "Mean closeness centrality: 0.5489110425227516\n",
      "Mean betweeness centrality: 0.0015998829331586553\n",
      "Mean degree centrality: 98.03578528827038\n",
      "Graphlet size 3 count, type 2: 4201814\n",
      "Graphlet size 3 count, type 3: 665192\n",
      "Graphlet size 4 count, type 4: 524294022\n",
      "Graphlet size 4 count, type 6: 2642274\n",
      "Graphlet size 4 count, type 7: 55320300\n",
      "Graphlet size 4 count, type 8: 203949\n",
      "Graphlet size 4 count, type 9: 100834763\n",
      "Graphlet size 4 count, type 10: 12107594\n"
     ]
    }
   ],
   "source": [
    "transitivity = nx.transitivity(G) # Global clustering coefficient.\n",
    "avg_loc = mean(nx.clustering(G).values())\n",
    "squared_loc = {key: value**2 for key, value in nx.clustering(G).items()}\n",
    "avg_loc2 = mean(squared_loc.values())\n",
    "avg_clos = mean(nx.closeness_centrality(G, distance='weight').values())\n",
    "avg_betw = mean(nx.betweenness_centrality(G, weight=True).values())\n",
    "avg_degree = mean(dict(G.degree()).values())\n",
    "graph_igraph = convert_to_igraph(G)\n",
    "motifs_result3 = graph_igraph.motifs_randesu(size=3)\n",
    "motifs_result4 = graph_igraph.motifs_randesu(size=4)\n",
    "\n",
    "print(\"Graph level features\")\n",
    "print(f\"Global clustering coefficient: {transitivity}\")\n",
    "print(\"Node level features\")\n",
    "print(f\"Mean local clustering coefficient: {avg_loc}\")\n",
    "print(f\"Mean squared local clustering coefficient: {avg_loc2}\")\n",
    "print(f\"Mean closeness centrality: {avg_clos}\")\n",
    "print(f\"Mean betweeness centrality: {avg_betw}\")\n",
    "print(f\"Mean degree centrality: {avg_degree}\")\n",
    "print(f\"Graphlet size 3 count, type 2: {motifs_result3[2]}\")\n",
    "print(f\"Graphlet size 3 count, type 3: {motifs_result3[3]}\")\n",
    "print(f\"Graphlet size 4 count, type 4: {motifs_result4[4]}\")\n",
    "print(f\"Graphlet size 4 count, type 6: {motifs_result4[6]}\")\n",
    "print(f\"Graphlet size 4 count, type 7: {motifs_result4[7]}\")\n",
    "print(f\"Graphlet size 4 count, type 8: {motifs_result4[8]}\")\n",
    "print(f\"Graphlet size 4 count, type 9: {motifs_result4[9]}\")\n",
    "print(f\"Graphlet size 4 count, type 10: {motifs_result4[10]}\")"
   ]
  },
  {
   "cell_type": "markdown",
   "metadata": {
    "id": "mPAQAjpmxAYj"
   },
   "source": [
    "# Metrics calculation function"
   ]
  },
  {
   "cell_type": "code",
   "execution_count": 26,
   "metadata": {
    "id": "8VavQmSvZ0TW"
   },
   "outputs": [],
   "source": [
    "# Function to compute all the metrics\n",
    "# graph_generator_func: function used to generate the graph\n",
    "# params_gen: arguments to pass to the generation function\n",
    "\n",
    "def compute_metrics(graph_generator_func, params_gen):\n",
    "  list_trans = []\n",
    "  list_loc_clust_coeff = []\n",
    "  list_avg_loc2 = []\n",
    "  list_clos_centr = []\n",
    "  list_betw_centr = []\n",
    "  list_degree_centr = []\n",
    "  list_graphlet_count3 = []\n",
    "  list_graphlet_count4 = []\n",
    "\n",
    "  N = 100 # Number of random graph to be generated\n",
    "\n",
    "  for n in range(0,N) :\n",
    "    print(f\"Iteration {n}\")\n",
    "    # Graph generation\n",
    "    if graph_generator_func.__name__ != 'weighted_multifractal' :\n",
    "        params_gen['seed'] = random.randint(1, 10000) # Add kwargs with variable seed\n",
    "      \n",
    "    graph = graph_generator_func(**params_gen)\n",
    "\n",
    "    # number of edges:\n",
    "    # print(\"Number of edges: \", graph.number_of_edges())\n",
    "    # print(\"Number of nodes: \", graph.number_of_nodes())\n",
    "\n",
    "    # Compute global clustering coefficient\n",
    "    list_trans.append(nx.transitivity(graph))\n",
    "\n",
    "    # Compute mean, median, stdev of local clustering coefficients\n",
    "    loc_clust_coeff = nx.clustering(graph).values()\n",
    "    list_loc_clust_coeff.append([ mean(loc_clust_coeff), median(loc_clust_coeff), stdev(loc_clust_coeff) ])\n",
    "\n",
    "    # Compute average squared local clustering coefficients\n",
    "    loc_clust_coeff_2 = [value**2 for value in loc_clust_coeff]\n",
    "    list_avg_loc2.append(mean(loc_clust_coeff_2))\n",
    "\n",
    "    # Compute mean, median, stdev of closeness centrality\n",
    "    clos_centr = nx.closeness_centrality(graph, distance='weight').values()\n",
    "    list_clos_centr.append([ mean(clos_centr), median(clos_centr), stdev(clos_centr) ])\n",
    "\n",
    "    # Compute mean, median, stdev of betweeness centrality\n",
    "    betw_centr = nx.betweenness_centrality(graph, weight=True).values()\n",
    "    list_betw_centr.append([ mean(betw_centr), median(betw_centr), stdev(betw_centr) ])\n",
    "\n",
    "    # Compute mean, median, stdev of degree centrality\n",
    "    degree_centr = dict(graph.degree()).values()\n",
    "    list_degree_centr.append([ mean(degree_centr), median(degree_centr), stdev(degree_centr) ])\n",
    "\n",
    "    # Compute graphlet count for size 3 and 4\n",
    "    graph_igraph = convert_to_igraph(graph)\n",
    "    motifs_result3 = graph_igraph.motifs_randesu(size=3)\n",
    "    list_graphlet_count3.append(motifs_result3)\n",
    "    motifs_result4 = graph_igraph.motifs_randesu(size=4)\n",
    "    list_graphlet_count4.append(motifs_result4)\n",
    "\n",
    "  # Compute mean and condidence interval of the metrics over the N generated graph\n",
    "  avg_trans = mean(list_trans)\n",
    "  conf_trans = sms.DescrStatsW(list_trans).tconfint_mean(alpha=0.05, alternative='two-sided' )\n",
    "\n",
    "\n",
    "  avgs_loc = [sublist[0] for sublist in list_loc_clust_coeff]\n",
    "  std_devs_loc = [sublist[2]**2 for sublist in list_loc_clust_coeff]\n",
    "  avg_loc = mean(avgs_loc)\n",
    "  std_dev_loc = np.sqrt(mean(std_devs_loc))\n",
    "  conf_loc = sms.DescrStatsW(avgs_loc).tconfint_mean(alpha=0.05, alternative='two-sided' )\n",
    "\n",
    "  avg_loc2 = mean(list_avg_loc2)\n",
    "  conf_loc2 = sms.DescrStatsW(list_avg_loc2).tconfint_mean(alpha=0.05, alternative='two-sided' )\n",
    "\n",
    "  avgs_clos = [sublist[0] for sublist in list_clos_centr]\n",
    "  std_devs_clos = [sublist[2]**2 for sublist in list_clos_centr]\n",
    "  std_dev_clos = np.sqrt(mean(std_devs_clos))\n",
    "  avg_clos = mean(avgs_clos)\n",
    "  conf_clos = sms.DescrStatsW(avgs_clos).tconfint_mean(alpha=0.05, alternative='two-sided' )\n",
    "\n",
    "  avgs_betw = [sublist[0] for sublist in list_betw_centr]\n",
    "  std_devs_betw= [sublist[2]**2 for sublist in list_betw_centr]\n",
    "  std_dev_betw = np.sqrt(mean(std_devs_betw))\n",
    "  avg_betw = mean(avgs_betw)\n",
    "  conf_betw = sms.DescrStatsW(avgs_betw).tconfint_mean(alpha=0.05, alternative='two-sided' )\n",
    "\n",
    "  avgs_degree = [sublist[0] for sublist in list_degree_centr]\n",
    "  std_devs_degree= [sublist[2]**2 for sublist in list_degree_centr]\n",
    "  std_dev_degree = np.sqrt(mean(std_devs_degree))\n",
    "  avg_degree = mean(avgs_degree)\n",
    "  conf_degree= sms.DescrStatsW(avgs_degree).tconfint_mean(alpha=0.05, alternative='two-sided' )\n",
    "\n",
    "  count3_2 = [sublist[2] for sublist in list_graphlet_count3]\n",
    "  avgs_count3_2 = mean(count3_2)\n",
    "  conf_grap_3_2 = sms.DescrStatsW(count3_2).tconfint_mean(alpha=0.05, alternative='two-sided' )\n",
    "\n",
    "  count3_3 = [sublist[3] for sublist in list_graphlet_count3]\n",
    "  avgs_count3_3 = mean(count3_3)\n",
    "  conf_grap_3_3 = sms.DescrStatsW(count3_3).tconfint_mean(alpha=0.05, alternative='two-sided' )\n",
    "\n",
    "  count4_4 = [sublist[4] for sublist in list_graphlet_count4]\n",
    "  avgs_count4_4 = mean(count4_4)\n",
    "  conf_grap_4_4 = sms.DescrStatsW(count4_4).tconfint_mean(alpha=0.05, alternative='two-sided' )\n",
    "\n",
    "  count4_6 = [sublist[6] for sublist in list_graphlet_count4]\n",
    "  avgs_count4_6 = mean(count4_6)\n",
    "  conf_grap_4_6 = sms.DescrStatsW(count4_6).tconfint_mean(alpha=0.05, alternative='two-sided' )\n",
    "\n",
    "  count4_7 = [sublist[7] for sublist in list_graphlet_count4]\n",
    "  avgs_count4_7 = mean(count4_7)\n",
    "  conf_grap_4_7 = sms.DescrStatsW(count4_7).tconfint_mean(alpha=0.05, alternative='two-sided' )\n",
    "\n",
    "  count4_8 = [sublist[8] for sublist in list_graphlet_count4]\n",
    "  avgs_count4_8 = mean(count4_8)\n",
    "  conf_grap_4_8 = sms.DescrStatsW(count4_8).tconfint_mean(alpha=0.05, alternative='two-sided' )\n",
    "\n",
    "  count4_9 = [sublist[9] for sublist in list_graphlet_count4]\n",
    "  avgs_count4_9 = mean(count4_9)\n",
    "  conf_grap_4_9 = sms.DescrStatsW(count4_9).tconfint_mean(alpha=0.05, alternative='two-sided' )\n",
    "\n",
    "  count4_10 = [sublist[10] for sublist in list_graphlet_count4]\n",
    "  avgs_count4_10 = mean(count4_10)\n",
    "  conf_grap_4_10 = sms.DescrStatsW(count4_10).tconfint_mean(alpha=0.05, alternative='two-sided')\n",
    "\n",
    "  print(\"Writing file\")\n",
    "  with open('calculated_metrics/metrics.txt', 'a') as file:\n",
    "    print(f\"Graph level features - {graph_generator_func.__name__}\", file=file)\n",
    "    print(f\"Global clustering coefficient. Mean {avg_trans} confidence: {conf_trans}\", file=file)\n",
    "    print(\"Node level features\", file=file)\n",
    "    print(f\"Mean local clustering coefficient. Mean {avg_loc} confidence: {conf_loc} stddev: {std_dev_loc}\", file=file)\n",
    "    print(f\"Mean squared local clustering coefficient. Mean {avg_loc2} confidence: {conf_loc2}\", file=file)\n",
    "    print(f\"Mean closeness centrality. Mean {avg_clos} confidence: {conf_clos} stddev: {std_dev_clos}\", file=file)\n",
    "    print(f\"Mean betweeness centrality. Mean {avg_betw} confidence: {conf_betw} stddev: {std_dev_betw}\", file=file)\n",
    "    print(f\"Mean degree centrality. Mean {avg_degree} confidence: {conf_degree} stddev: {std_dev_degree}\", file=file)\n",
    "    print(f\"Mean graphlet count size 3, type 2. Mean {avgs_count3_2} confidence: {conf_grap_3_2}\", file=file)\n",
    "    print(f\"Mean graphlet count size 3, type 3. Mean {avgs_count3_3} confidence: {conf_grap_3_3}\", file=file)\n",
    "    print(f\"Mean graphlet count size 4, type 4. Mean {avgs_count4_4} confidence: {conf_grap_4_4}\", file=file)\n",
    "    print(f\"Mean graphlet count size 4, type 6. Mean {avgs_count4_6} confidence: {conf_grap_4_6}\", file=file)\n",
    "    print(f\"Mean graphlet count size 4, type 7. Mean {avgs_count4_7} confidence: {conf_grap_4_7}\", file=file)\n",
    "    print(f\"Mean graphlet count size 4, type 8. Mean {avgs_count4_8} confidence: {conf_grap_4_8}\", file=file)\n",
    "    print(f\"Mean graphlet count size 4, type 9. Mean {avgs_count4_9} confidence: {conf_grap_4_9}\", file=file)\n",
    "    print(f\"Mean graphlet count size 4, type 10. Mean {avgs_count4_10} confidence: {conf_grap_4_10}\", file=file)\n",
    "    print(\"\\n\", file=file)\n"
   ]
  },
  {
   "cell_type": "markdown",
   "metadata": {
    "id": "ccDeOlAPj3z8"
   },
   "source": [
    "# Random regular graph\n",
    "A d-regular graph has all n vertices of degree d and n × d must be even.\n",
    "The resulting graph has no self-loops or parallel edges\n"
   ]
  },
  {
   "cell_type": "code",
   "execution_count": 25,
   "metadata": {
    "colab": {
     "base_uri": "https://localhost:8080/"
    },
    "id": "6nMT18q4jNXe",
    "outputId": "57dda8e7-5ae1-43ac-ff58-92d7c500b382"
   },
   "outputs": [
    {
     "name": "stdout",
     "output_type": "stream",
     "text": [
      "Iteration 0\n",
      "Iteration 1\n",
      "Iteration 2\n",
      "Writing file\n"
     ]
    }
   ],
   "source": [
    "# GENERATION PARAMETERS\n",
    "# - degree d of each node\n",
    "# - number of nodes n\n",
    "compute_metrics(nx.random_regular_graph, {'d': int(round(mean_degree)), 'n': G.number_of_nodes()})"
   ]
  },
  {
   "cell_type": "markdown",
   "metadata": {
    "id": "Xyw_LsialCaY"
   },
   "source": [
    "# Barabasi Albert graph\n",
    "\n",
    "A graph of n nodes is grown by attaching new nodes each with m edges that are preferentially attached to existing nodes with high degree."
   ]
  },
  {
   "cell_type": "code",
   "execution_count": null,
   "metadata": {
    "colab": {
     "base_uri": "https://localhost:8080/"
    },
    "id": "MYStfhY3lEDr",
    "outputId": "2c97b230-48ea-4a1e-9dc1-5c764514b126"
   },
   "outputs": [],
   "source": [
    "# GENERATION PARAMETERS\n",
    "# - m edges of every new node attached\n",
    "# - number of nodes n\n",
    "compute_metrics(nx.barabasi_albert_graph, {'m': int(round(mean_degree)), 'n': G.number_of_nodes()})"
   ]
  },
  {
   "cell_type": "markdown",
   "metadata": {
    "id": "BD05Ocrsn5nT"
   },
   "source": [
    "# Erdős-Rényi graph\n",
    "The $G_{n,p}$ model chooses each of the possible edges with probability p"
   ]
  },
  {
   "cell_type": "code",
   "execution_count": null,
   "metadata": {
    "colab": {
     "base_uri": "https://localhost:8080/"
    },
    "id": "1eDXKYgsnrfW",
    "outputId": "fe57db94-943d-44e4-fab7-17a8ca07560a"
   },
   "outputs": [],
   "source": [
    "# GENERATION PARAMETERS\n",
    "# - number of nodes n\n",
    "# - probability p of new edge:\n",
    "# p must be so that the expected number of edges is equal to the number of edges in the connectome\n",
    "prob = G.number_of_edges() * 2 / (G.number_of_nodes() * (G.number_of_nodes() - 1))\n",
    "compute_metrics(nx.erdos_renyi_graph, {'n': G.number_of_nodes(), 'p': prob})"
   ]
  },
  {
   "cell_type": "markdown",
   "metadata": {
    "id": "a0Y0GEeHpXIQ"
   },
   "source": [
    "# Watts–Strogatz\n",
    "\n",
    "The Watts–Strogatz model is a random graph generation model that produces graphs with small-world properties, including short average path lengths and high clustering"
   ]
  },
  {
   "cell_type": "code",
   "execution_count": null,
   "metadata": {
    "colab": {
     "base_uri": "https://localhost:8080/"
    },
    "id": "6D58efA7pVQQ",
    "outputId": "bdff4bd3-c880-438f-fbb9-d4a31aa7d84f"
   },
   "outputs": [],
   "source": [
    "# GENERATION PARAMETERS\n",
    "# - number of nodes n\n",
    "# - k nearest neighbors\n",
    "# - probability p of rewiring each edge:\n",
    "# k must resemble the mean degree of the connectome, meanwhile for the choice\n",
    "# of p we did not found relevant changes between the results\n",
    "k = round(mean_degree)\n",
    "prob = 0.85\n",
    "\n",
    "compute_metrics(nx.watts_strogatz_graph, {'n': G.number_of_nodes(), 'k': k ,'p': prob})"
   ]
  },
  {
   "cell_type": "markdown",
   "metadata": {
    "id": "I1_6gDGDl6FD"
   },
   "source": [
    "# Weighted Multifractal Graph"
   ]
  },
  {
   "cell_type": "markdown",
   "metadata": {
    "id": "0AR3mkgx-CPl"
   },
   "source": [
    "Function to generate a Weighted Multifractal graph in networkx format"
   ]
  },
  {
   "cell_type": "code",
   "execution_count": 19,
   "metadata": {
    "id": "h-vH_7NZ-ADH"
   },
   "outputs": [],
   "source": [
    "def weighted_multifractal(PK, LK, LKcum, N, isDirected, isBinary):\n",
    "    adj, class_array = generate_adj(PK, LK, LKcum, N, isDirected, isBinary)\n",
    "    graph = nx.from_numpy_array(adj)\n",
    "    return graph"
   ]
  },
  {
   "cell_type": "code",
   "execution_count": 23,
   "metadata": {
    "colab": {
     "base_uri": "https://localhost:8080/",
     "height": 1000
    },
    "id": "JJc2ERKucwrE",
    "outputId": "be8743f0-c592-42d8-b6e0-0ca95fafe498"
   },
   "outputs": [
    {
     "name": "stdout",
     "output_type": "stream",
     "text": [
      "Iteration 0\n",
      "Iteration 1\n",
      "Iteration 2\n",
      "Writing file\n"
     ]
    }
   ],
   "source": [
    "# GENERATION PARAMETERS\n",
    "# - PK probability for the edge generation\n",
    "# - LK probability for the node generation\n",
    "# - LKcum probability distribution for the node generation\n",
    "# - N number of nodes in the generated graph\n",
    "# - isDirected and isBinary are flags for the resulting graph type\n",
    "# Both PK and LK parameters are estimated in $filename_to_be_added\n",
    "\n",
    "# Load PK and LK estimated using matlab code\n",
    "modelParaPK = np.loadtxt('Matlab/EM_matlab_result/modelParaPK.csv', delimiter=',')\n",
    "modelParaLK = np.loadtxt('Matlab/EM_matlab_result/modelParaLK.csv', delimiter=',')\n",
    "\n",
    "# Load PK and LK estimated using our py code\n",
    "# modelParaPK = np.loadtxt('EM_py_results/modelParaPK.csv', delimiter=';')\n",
    "# modelParaLK = np.loadtxt('EM_py_results/modelParaLK.csv', delimiter=';')\n",
    "\n",
    "compute_metrics(weighted_multifractal, { 'PK' : modelParaPK, 'LK' : modelParaLK, 'LKcum' : np.cumsum(modelParaLK),\n",
    "                                        'N' : G.number_of_nodes(), 'isDirected' : 0, 'isBinary' : 0 })\n"
   ]
  },
  {
   "cell_type": "code",
   "execution_count": null,
   "metadata": {},
   "outputs": [],
   "source": []
  }
 ],
 "metadata": {
  "colab": {
   "collapsed_sections": [
    "Xyw_LsialCaY",
    "BD05Ocrsn5nT"
   ],
   "provenance": [],
   "toc_visible": true
  },
  "kernelspec": {
   "display_name": "Python 3 (ipykernel)",
   "language": "python",
   "name": "python3"
  },
  "language_info": {
   "codemirror_mode": {
    "name": "ipython",
    "version": 3
   },
   "file_extension": ".py",
   "mimetype": "text/x-python",
   "name": "python",
   "nbconvert_exporter": "python",
   "pygments_lexer": "ipython3",
   "version": "3.12.1"
  }
 },
 "nbformat": 4,
 "nbformat_minor": 4
}
